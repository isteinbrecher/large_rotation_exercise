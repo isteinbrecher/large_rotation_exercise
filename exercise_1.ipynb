{
 "cells": [
  {
   "cell_type": "markdown",
   "metadata": {},
   "source": [
    "# Exercise 1: Introduction to large rotations in MeshPy\n",
    "\n",
    "The beam finite element input generator **MeshPy** comes with a framework for handling of large rotations.\n",
    "\n",
    "First, we need to import the relevant python packages and objects:"
   ]
  },
  {
   "cell_type": "code",
   "execution_count": 1,
   "metadata": {},
   "outputs": [],
   "source": [
    "import numpy as np\n",
    "import matplotlib.pyplot as plt\n",
    "from meshpy import Rotation"
   ]
  },
  {
   "cell_type": "markdown",
   "metadata": {},
   "source": [
    "The main workflow to handle large rotations is with the `Rotation` object.\n",
    "This object represents an element of the $SO3$ group.\n",
    "An identity rotation can be created with:"
   ]
  },
  {
   "cell_type": "code",
   "execution_count": 2,
   "metadata": {},
   "outputs": [
    {
     "name": "stdout",
     "output_type": "stream",
     "text": [
      "Rotation:\n",
      "    q0: 1.0\n",
      "    q: [0. 0. 0.]\n"
     ]
    }
   ],
   "source": [
    "rotation_identity = Rotation()\n",
    "print(rotation_identity)"
   ]
  },
  {
   "cell_type": "markdown",
   "metadata": {},
   "source": [
    "We can see that the internal representation of this rotation object is done with quaternions.\n",
    "This does not hinder us from using any other common type of rotational parametrization.\n",
    "We can also create the object from a rotation (pseudo-)vector:"
   ]
  },
  {
   "cell_type": "code",
   "execution_count": 3,
   "metadata": {},
   "outputs": [
    {
     "name": "stdout",
     "output_type": "stream",
     "text": [
      "Rotation:\n",
      "    q0: 0.7071067811865476\n",
      "    q: [0.70710678 0.         0.        ]\n"
     ]
    }
   ],
   "source": [
    "rotation_vector_1 = [0.5 * np.pi, 0, 0]\n",
    "rotation_1 = Rotation.from_rotation_vector(rotation_vector_1)\n",
    "print(rotation_1)"
   ]
  },
  {
   "cell_type": "markdown",
   "metadata": {},
   "source": [
    "We can now get the rotation matrix for this rotation"
   ]
  },
  {
   "cell_type": "code",
   "execution_count": 4,
   "metadata": {},
   "outputs": [
    {
     "name": "stdout",
     "output_type": "stream",
     "text": [
      "[[ 1.  0.  0.]\n",
      " [ 0.  0. -1.]\n",
      " [ 0.  1.  0.]]\n"
     ]
    }
   ],
   "source": [
    "print(rotation_1.get_rotation_matrix())"
   ]
  },
  {
   "cell_type": "markdown",
   "metadata": {},
   "source": [
    "Let's define a second rotation"
   ]
  },
  {
   "cell_type": "code",
   "execution_count": 5,
   "metadata": {},
   "outputs": [],
   "source": [
    "rotation_2 = Rotation.from_rotation_vector([0, 0.5 * np.pi, 0.5])"
   ]
  },
  {
   "cell_type": "markdown",
   "metadata": {},
   "source": [
    "We now have two rotations $\\Lambda_1$ and $\\lambda_2$, represented by the variables `rotation_1` and `rotation_2`.\n",
    "The compound rotation $\\Lambda_3=\\Lambda_2 \\Lambda_1$ can be computed with"
   ]
  },
  {
   "cell_type": "code",
   "execution_count": 6,
   "metadata": {},
   "outputs": [
    {
     "name": "stdout",
     "output_type": "stream",
     "text": [
      "Rotation:\n",
      "    q0: 0.48021354734011684\n",
      "    q: [ 0.48021355  0.65201147 -0.33715121]\n"
     ]
    }
   ],
   "source": [
    "rotation_3 = rotation_2 * rotation_1\n",
    "print(rotation_3)"
   ]
  },
  {
   "cell_type": "markdown",
   "metadata": {},
   "source": [
    "We can have a look at the rotation vector and matrix representations"
   ]
  },
  {
   "cell_type": "code",
   "execution_count": 7,
   "metadata": {},
   "outputs": [
    {
     "name": "stdout",
     "output_type": "stream",
     "text": [
      "rotation_3 (rotation vector) = [ 1.17147273  1.59057083 -0.82247461]\n",
      "rotation_3 (matrix) =\n",
      "[[-0.0775798   0.95001864  0.30240033]\n",
      " [ 0.30240033  0.31144802 -0.90086302]\n",
      " [-0.95001864  0.02155719 -0.31144802]]\n"
     ]
    }
   ],
   "source": [
    "print(f\"rotation_3 (rotation vector) = {rotation_3.get_rotation_vector()}\")\n",
    "print(f\"rotation_3 (matrix) =\\n{rotation_3.get_rotation_matrix()}\")"
   ]
  },
  {
   "cell_type": "markdown",
   "metadata": {},
   "source": [
    "We could have also computed $\\Lambda_3$ from the rotation matrices of $\\Lambda_1$ and $\\Lambda_2$"
   ]
  },
  {
   "cell_type": "code",
   "execution_count": 8,
   "metadata": {},
   "outputs": [
    {
     "name": "stdout",
     "output_type": "stream",
     "text": [
      "Rotations are equal\n"
     ]
    }
   ],
   "source": [
    "rotation_1_rotation_matrix = rotation_1.get_rotation_matrix()\n",
    "rotation_2_rotation_matrix = rotation_2.get_rotation_matrix()\n",
    "rotation_3_rotation_matrix = np.dot(\n",
    "    rotation_2_rotation_matrix, rotation_1_rotation_matrix\n",
    ")\n",
    "rotation_3_from_rotation_matrix = Rotation.from_rotation_matrix(\n",
    "    rotation_3_rotation_matrix\n",
    ")\n",
    "if rotation_3 == rotation_3_from_rotation_matrix:\n",
    "    print(\"Rotations are equal\")\n",
    "else:\n",
    "    print(\"Rotations are not equal\")"
   ]
  },
  {
   "cell_type": "markdown",
   "metadata": {},
   "source": [
    "A rotation object can be _inverted_"
   ]
  },
  {
   "cell_type": "code",
   "execution_count": 9,
   "metadata": {},
   "outputs": [],
   "source": [
    "rotation_2_inverse = rotation_2.inv()"
   ]
  },
  {
   "cell_type": "markdown",
   "metadata": {},
   "source": [
    "With this we can compute $\\Lambda_1=\\Lambda_2^{-1}\\Lambda_3$ which is equal to the original definition of $\\Lambda_1$"
   ]
  },
  {
   "cell_type": "code",
   "execution_count": 10,
   "metadata": {},
   "outputs": [
    {
     "name": "stdout",
     "output_type": "stream",
     "text": [
      "Rotations are equal\n"
     ]
    }
   ],
   "source": [
    "rotation_1_alternative = rotation_2_inverse * rotation_3\n",
    "if rotation_1_alternative == rotation_1:\n",
    "    print(\"Rotations are equal\")\n",
    "else:\n",
    "    print(\"Rotations are not equal\")"
   ]
  },
  {
   "cell_type": "markdown",
   "metadata": {},
   "source": [
    "We can also easily compute the rotation of a vector $a'=\\Lambda_3 a$:"
   ]
  },
  {
   "cell_type": "code",
   "execution_count": 11,
   "metadata": {},
   "outputs": [
    {
     "name": "stdout",
     "output_type": "stream",
     "text": [
      "[ 2.72965846 -1.77729268 -1.84124833]\n"
     ]
    }
   ],
   "source": [
    "a = [1, 2, 3]\n",
    "a_prime = rotation_3 * a\n",
    "print(a_prime)"
   ]
  },
  {
   "cell_type": "markdown",
   "metadata": {},
   "source": [
    "We get the same result if we use the rotation matrix directly"
   ]
  },
  {
   "cell_type": "code",
   "execution_count": 12,
   "metadata": {},
   "outputs": [
    {
     "name": "stdout",
     "output_type": "stream",
     "text": [
      "[ 2.72965846 -1.77729268 -1.84124833]\n"
     ]
    }
   ],
   "source": [
    "a_prime_alternative = np.dot(rotation_3.get_rotation_matrix(), a)\n",
    "print(a_prime_alternative)"
   ]
  }
 ],
 "metadata": {
  "kernelspec": {
   "display_name": "meshpy",
   "language": "python",
   "name": "python3"
  },
  "language_info": {
   "codemirror_mode": {
    "name": "ipython",
    "version": 3
   },
   "file_extension": ".py",
   "mimetype": "text/x-python",
   "name": "python",
   "nbconvert_exporter": "python",
   "pygments_lexer": "ipython3",
   "version": "3.12.1"
  }
 },
 "nbformat": 4,
 "nbformat_minor": 2
}
